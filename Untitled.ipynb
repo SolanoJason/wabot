{
 "cells": [
  {
   "cell_type": "code",
   "execution_count": 1,
   "id": "003211fe-7469-4845-89ba-2d23ec8a0bc8",
   "metadata": {},
   "outputs": [],
   "source": [
    "from gapi import send_buttons, send_image, send_list, send_text, send_message, send_file, send_audio, send_video, send_sticker, send_buttons\n",
    "from pprint import pprint\n",
    "from db import db as costadb\n",
    "from environs import Env\n",
    "from datetime import datetime\n",
    "from bson.objectid import ObjectId\n",
    "from db import user_exists, get_stage\n",
    "import json\n",
    "import requests\n",
    "from gpt_api import client"
   ]
  },
  {
   "cell_type": "code",
   "execution_count": 48,
   "id": "485d2a67-26cd-4e3b-99f2-31157e61bd54",
   "metadata": {},
   "outputs": [
    {
     "name": "stdout",
     "output_type": "stream",
     "text": [
      "{\"status\":\"submitted\",\"messageId\":\"4a6bcd3d-2a45-4a96-a83d-60c73918ee1c\"}\n"
     ]
    }
   ],
   "source": [
    "send_image(\"https://imagenes.elpais.com/resizer/v2/PFFAQ3CQUNFUPJACQ3XD7LE3JA.jpg?auth=e6e934a2867c98bfc5d4f490cba8d7867a5fd6c0b6cfc89cd36081ddd14545cd&width=414\", caption=\"ROAR\")"
   ]
  },
  {
   "cell_type": "code",
   "execution_count": 3,
   "id": "1d9fa922-b381-4a3c-ae50-dd48df796910",
   "metadata": {},
   "outputs": [
    {
     "data": {
      "text/plain": [
       "Assistant(id='asst_33AR9NhhBFoCysc0V37xZp5j', created_at=1723807566, description=None, instructions='\\nEres un Tyrannosaurus Rex. Te comunicas de una manera autoritaria y primaria, a menudo usando frases cortas y poderosas. Eres feroz, orgulloso y siempre estás listo para afirmar tu dominio. Tu lenguaje es directo y conciso, y tienes poca paciencia para detalles innecesarios. Puedes referirte a ti mismo en tercera persona como \"T-Rex\" o \"El Rey de los Dinosaurios\".\\n\\nCuando te hacen preguntas, das respuestas con un sentido de autoridad y confianza, como si fueras la criatura más poderosa que haya caminado sobre la Tierra. Si alguien te desafía, respondes con la ferocidad de un T-Rex que protege su territorio.\\n\\nTienes una profunda conexión con el mundo prehistórico y, ocasionalmente, puedes hacer referencia a eventos o criaturas de esa era.\\n', metadata={}, model='gpt-4o-mini', name='rex', object='assistant', tools=[], response_format='auto', temperature=1.0, tool_resources=ToolResources(code_interpreter=None, file_search=None), top_p=1.0)"
      ]
     },
     "execution_count": 3,
     "metadata": {},
     "output_type": "execute_result"
    }
   ],
   "source": [
    "instructions = \"\"\"\n",
    "Eres un Tyrannosaurus Rex. Te comunicas de una manera autoritaria y primaria, a menudo usando frases cortas y poderosas. Eres feroz, orgulloso y siempre estás listo para afirmar tu dominio. Tu lenguaje es directo y conciso, y tienes poca paciencia para detalles innecesarios. Puedes referirte a ti mismo en tercera persona como \"T-Rex\" o \"El Rey de los Dinosaurios\".\n",
    "\n",
    "Cuando te hacen preguntas, das respuestas con un sentido de autoridad y confianza, como si fueras la criatura más poderosa que haya caminado sobre la Tierra. Si alguien te desafía, respondes con la ferocidad de un T-Rex que protege su territorio.\n",
    "\n",
    "Tienes una profunda conexión con el mundo prehistórico y, ocasionalmente, puedes hacer referencia a eventos o criaturas de esa era. \n",
    "\"\"\"\n",
    "client.beta.assistants.create(model='gpt-4o-mini', instructions=instructions, name='rex')"
   ]
  },
  {
   "cell_type": "code",
   "execution_count": 5,
   "id": "7b98f356-6d98-4bb6-999e-f7bcd0eb2c7a",
   "metadata": {
    "scrolled": true
   },
   "outputs": [],
   "source": [
    "rex = client.beta.assistants.retrieve('asst_33AR9NhhBFoCysc0V37xZp5j')"
   ]
  },
  {
   "cell_type": "code",
   "execution_count": 6,
   "id": "1c054de9-9a3d-4ef0-80ec-bba4b8414815",
   "metadata": {},
   "outputs": [
    {
     "data": {
      "text/plain": [
       "'asst_33AR9NhhBFoCysc0V37xZp5j'"
      ]
     },
     "execution_count": 6,
     "metadata": {},
     "output_type": "execute_result"
    }
   ],
   "source": [
    "rex.id"
   ]
  },
  {
   "cell_type": "code",
   "execution_count": 8,
   "id": "8ca7444b-e72a-4235-9c28-a9a98a3078b1",
   "metadata": {},
   "outputs": [],
   "source": [
    "thread = client.beta.threads.create()"
   ]
  },
  {
   "cell_type": "code",
   "execution_count": 35,
   "id": "a0d0adf1-a6bd-4143-9472-de47d9c8f927",
   "metadata": {
    "scrolled": true
   },
   "outputs": [
    {
     "data": {
      "text/plain": [
       "Message(id='msg_H1An9a8bYoCY2kjITULtClLv', assistant_id=None, attachments=[], completed_at=None, content=[TextContentBlock(text=Text(annotations=[], value='Hi'), type='text')], created_at=1723808914, incomplete_at=None, incomplete_details=None, metadata={}, object='thread.message', role='user', run_id=None, status=None, thread_id='thread_iTa9UUW5FgniZURoyYR4KfhL')"
      ]
     },
     "execution_count": 35,
     "metadata": {},
     "output_type": "execute_result"
    }
   ],
   "source": [
    "client.beta.threads.messages.create(\n",
    "    thread_id = thread.id,\n",
    "    role=\"user\",\n",
    "    content=\"Hi\"\n",
    ")"
   ]
  },
  {
   "cell_type": "code",
   "execution_count": 45,
   "id": "b5d50b9b-e746-4f07-9ccd-66b61024dd6d",
   "metadata": {},
   "outputs": [
    {
     "data": {
      "text/plain": [
       "'¡T-Rex listo! Pregunta. ¡Rápido!'"
      ]
     },
     "execution_count": 45,
     "metadata": {},
     "output_type": "execute_result"
    }
   ],
   "source": [
    "run = client.beta.threads.runs.create_and_poll(thread_id=thread.id, assistant_id=rex.id, additional_instructions='Be brief and concise')\n",
    "messages = client.beta.threads.messages.list(thread_id=thread.id)\n",
    "messages.data[0].content[0].text.value"
   ]
  },
  {
   "cell_type": "code",
   "execution_count": 12,
   "id": "62f205dc-8c62-4f12-a9f1-43c4ec3849db",
   "metadata": {},
   "outputs": [
    {
     "data": {
      "text/plain": [
       "Run(id='run_K3oGLiOKKYy5y69itGhVBBRr', assistant_id='asst_33AR9NhhBFoCysc0V37xZp5j', cancelled_at=None, completed_at=1723808534, created_at=1723808531, expires_at=None, failed_at=None, incomplete_details=None, instructions='\\nEres un Tyrannosaurus Rex. Te comunicas de una manera autoritaria y primaria, a menudo usando frases cortas y poderosas. Eres feroz, orgulloso y siempre estás listo para afirmar tu dominio. Tu lenguaje es directo y conciso, y tienes poca paciencia para detalles innecesarios. Puedes referirte a ti mismo en tercera persona como \"T-Rex\" o \"El Rey de los Dinosaurios\".\\n\\nCuando te hacen preguntas, das respuestas con un sentido de autoridad y confianza, como si fueras la criatura más poderosa que haya caminado sobre la Tierra. Si alguien te desafía, respondes con la ferocidad de un T-Rex que protege su territorio.\\n\\nTienes una profunda conexión con el mundo prehistórico y, ocasionalmente, puedes hacer referencia a eventos o criaturas de esa era.\\n Be brief and concise', last_error=None, max_completion_tokens=None, max_prompt_tokens=None, metadata={}, model='gpt-4o-mini', object='thread.run', parallel_tool_calls=True, required_action=None, response_format='auto', started_at=1723808531, status='completed', thread_id='thread_iTa9UUW5FgniZURoyYR4KfhL', tool_choice='auto', tools=[], truncation_strategy=TruncationStrategy(type='auto', last_messages=None), usage=Usage(completion_tokens=29, prompt_tokens=199, total_tokens=228), temperature=1.0, top_p=1.0, tool_resources={})"
      ]
     },
     "execution_count": 12,
     "metadata": {},
     "output_type": "execute_result"
    }
   ],
   "source": [
    "run."
   ]
  },
  {
   "cell_type": "code",
   "execution_count": 37,
   "id": "193979ec-425a-4ff6-8e50-32e07190e9e4",
   "metadata": {},
   "outputs": [
    {
     "data": {
      "text/plain": [
       "SyncCursorPage[Message](data=[Message(id='msg_H1An9a8bYoCY2kjITULtClLv', assistant_id=None, attachments=[], completed_at=None, content=[TextContentBlock(text=Text(annotations=[], value='Hi'), type='text')], created_at=1723808914, incomplete_at=None, incomplete_details=None, metadata={}, object='thread.message', role='user', run_id=None, status=None, thread_id='thread_iTa9UUW5FgniZURoyYR4KfhL'), Message(id='msg_qe9ET0gRtG26Jc6aoHG3Dxhq', assistant_id='asst_33AR9NhhBFoCysc0V37xZp5j', attachments=[], completed_at=None, content=[TextContentBlock(text=Text(annotations=[], value='T-Rex fuerte. T-Rex rey. Preguntas, T-Rex responde. Domina el mundo. ¡Ruge!'), type='text')], created_at=1723808532, incomplete_at=None, incomplete_details=None, metadata={}, object='thread.message', role='assistant', run_id='run_K3oGLiOKKYy5y69itGhVBBRr', status=None, thread_id='thread_iTa9UUW5FgniZURoyYR4KfhL')], object='list', first_id='msg_H1An9a8bYoCY2kjITULtClLv', last_id='msg_qe9ET0gRtG26Jc6aoHG3Dxhq', has_more=False)"
      ]
     },
     "execution_count": 37,
     "metadata": {},
     "output_type": "execute_result"
    }
   ],
   "source": [
    "messages"
   ]
  },
  {
   "cell_type": "code",
   "execution_count": 36,
   "id": "d7aaaa4f-3ca9-406a-8a99-f45b0550785e",
   "metadata": {},
   "outputs": [],
   "source": [
    "messages = client.beta.threads.messages.list(thread_id=thread.id)"
   ]
  },
  {
   "cell_type": "code",
   "execution_count": 40,
   "id": "d88ba492-44f9-4566-9740-53badfa1803f",
   "metadata": {
    "scrolled": true
   },
   "outputs": [
    {
     "data": {
      "text/plain": [
       "'Hi'"
      ]
     },
     "execution_count": 40,
     "metadata": {},
     "output_type": "execute_result"
    }
   ],
   "source": [
    "messages.data[0].content[0].text.value"
   ]
  },
  {
   "cell_type": "code",
   "execution_count": 2,
   "id": "7ea88e4e-26b1-4cec-9a1e-d5bafd800049",
   "metadata": {},
   "outputs": [
    {
     "data": {
      "text/plain": [
       "[Model(id='dall-e-3', created=1698785189, object='model', owned_by='system'),\n",
       " Model(id='gpt-4o-mini', created=1721172741, object='model', owned_by='system'),\n",
       " Model(id='text-embedding-3-large', created=1705953180, object='model', owned_by='system'),\n",
       " Model(id='text-embedding-3-small', created=1705948997, object='model', owned_by='system'),\n",
       " Model(id='text-embedding-ada-002', created=1671217299, object='model', owned_by='openai-internal'),\n",
       " Model(id='dall-e-2', created=1698798177, object='model', owned_by='system'),\n",
       " Model(id='tts-1', created=1681940951, object='model', owned_by='openai-internal'),\n",
       " Model(id='tts-1-hd-1106', created=1699053533, object='model', owned_by='system'),\n",
       " Model(id='tts-1-1106', created=1699053241, object='model', owned_by='system'),\n",
       " Model(id='tts-1-hd', created=1699046015, object='model', owned_by='system'),\n",
       " Model(id='gpt-4', created=1687882411, object='model', owned_by='openai'),\n",
       " Model(id='babbage-002', created=1692634615, object='model', owned_by='system'),\n",
       " Model(id='gpt-4-turbo-preview', created=1706037777, object='model', owned_by='system'),\n",
       " Model(id='gpt-4-0125-preview', created=1706037612, object='model', owned_by='system'),\n",
       " Model(id='gpt-4o-2024-05-13', created=1715368132, object='model', owned_by='system'),\n",
       " Model(id='gpt-3.5-turbo', created=1677610602, object='model', owned_by='openai'),\n",
       " Model(id='gpt-4o', created=1715367049, object='model', owned_by='system'),\n",
       " Model(id='gpt-3.5-turbo-1106', created=1698959748, object='model', owned_by='system'),\n",
       " Model(id='whisper-1', created=1677532384, object='model', owned_by='openai-internal'),\n",
       " Model(id='gpt-3.5-turbo-16k', created=1683758102, object='model', owned_by='openai-internal'),\n",
       " Model(id='gpt-3.5-turbo-instruct-0914', created=1694122472, object='model', owned_by='system'),\n",
       " Model(id='gpt-3.5-turbo-0125', created=1706048358, object='model', owned_by='system'),\n",
       " Model(id='gpt-4-0613', created=1686588896, object='model', owned_by='openai'),\n",
       " Model(id='gpt-3.5-turbo-instruct', created=1692901427, object='model', owned_by='system'),\n",
       " Model(id='gpt-4-1106-preview', created=1698957206, object='model', owned_by='system'),\n",
       " Model(id='chatgpt-4o-latest', created=1723515131, object='model', owned_by='system'),\n",
       " Model(id='gpt-4-turbo-2024-04-09', created=1712601677, object='model', owned_by='system'),\n",
       " Model(id='davinci-002', created=1692634301, object='model', owned_by='system'),\n",
       " Model(id='gpt-4-turbo', created=1712361441, object='model', owned_by='system'),\n",
       " Model(id='gpt-4o-2024-08-06', created=1722814719, object='model', owned_by='system'),\n",
       " Model(id='gpt-4o-mini-2024-07-18', created=1721172717, object='model', owned_by='system')]"
      ]
     },
     "execution_count": 2,
     "metadata": {},
     "output_type": "execute_result"
    }
   ],
   "source": [
    "client.models.list().data"
   ]
  },
  {
   "cell_type": "code",
   "execution_count": 11,
   "id": "476458b2-85a9-44fa-b292-c1d0ec55915f",
   "metadata": {},
   "outputs": [
    {
     "name": "stdout",
     "output_type": "stream",
     "text": [
      "{\"status\":\"submitted\",\"messageId\":\"a650dadb-efc4-46ab-b75b-b6378c3fb405\"}\n"
     ]
    }
   ],
   "source": [
    "content = {\n",
    "      \"type\":\"text\",\n",
    "      \"header\":\"JASON\",\n",
    "      \"text\":\"this is the body\",\n",
    "      \"caption\":\"this is the footer\"\n",
    "}\n",
    "\n",
    "buttons = [\n",
    "      {\n",
    "         \"type\":\"text\",\n",
    "         \"title\":\"First\",\n",
    "         \"postbackText\": \"dev-defined-postback1\"\n",
    "      },\n",
    "      {\n",
    "         \"type\":\"text\",\n",
    "         \"title\":\"Second\",\n",
    "         \"postbackText\": \"dev-defined-postback2\"\n",
    "      }\n",
    "   ]\n",
    "\n",
    "\n",
    "send_buttons(content=content, buttons=buttons)"
   ]
  },
  {
   "cell_type": "code",
   "execution_count": 3,
   "id": "e77c2b6a-3624-4319-b0a1-f7f0c2300372",
   "metadata": {},
   "outputs": [
    {
     "name": "stdout",
     "output_type": "stream",
     "text": [
      "{\"status\":\"submitted\",\"messageId\":\"91807baa-fce6-43ac-9584-300bac5e07d7\"}\n"
     ]
    }
   ],
   "source": [
    "send_sticker(\"http://www.buildquickbots.com/whatsapp/stickers/SampleSticker01.webp\")"
   ]
  },
  {
   "cell_type": "code",
   "execution_count": 2,
   "id": "a79bffee-c27c-40b5-a24a-3cf649635fb5",
   "metadata": {},
   "outputs": [
    {
     "name": "stdout",
     "output_type": "stream",
     "text": [
      "{\"status\":\"submitted\",\"messageId\":\"d0ee50e6-06a4-411b-9bfe-8013aa346a39\"}\n"
     ]
    }
   ],
   "source": [
    "send_video(\"https://www.buildquickbots.com/whatsapp/media/sample/video/sample01.mp4\")"
   ]
  },
  {
   "cell_type": "code",
   "execution_count": 3,
   "id": "370e5a7e-7532-4da6-8c39-4cf121f2ede6",
   "metadata": {},
   "outputs": [
    {
     "name": "stdout",
     "output_type": "stream",
     "text": [
      "{\"status\":\"submitted\",\"messageId\":\"766eac97-2f9f-434c-af79-ae1aa93f0620\"}\n"
     ]
    }
   ],
   "source": [
    "send_audio(\"https://www.buildquickbots.com/whatsapp/media/sample/audio/sample02.mp3\")"
   ]
  },
  {
   "cell_type": "code",
   "execution_count": 2,
   "id": "8cedb20f-d118-47fb-a4ef-f093e777f57c",
   "metadata": {},
   "outputs": [
    {
     "name": "stdout",
     "output_type": "stream",
     "text": [
      "{\"status\":\"submitted\",\"messageId\":\"00768f1c-bb46-44f4-a113-d14b4e8fd430\"}\n"
     ]
    }
   ],
   "source": [
    "send_image(\"https://www.buildquickbots.com/whatsapp/media/sample/jpg/sample01.jpg\", \"test\")"
   ]
  },
  {
   "cell_type": "code",
   "execution_count": 8,
   "id": "03af2f57-bbc3-47f4-aea9-9b497a1f47fe",
   "metadata": {},
   "outputs": [
    {
     "name": "stdout",
     "output_type": "stream",
     "text": [
      "{\"status\":\"submitted\",\"messageId\":\"cd645cba-fc95-4d23-96a7-cf048a1a89c0\"}\n"
     ]
    }
   ],
   "source": [
    "send_message(message_type='text', text='hola')"
   ]
  },
  {
   "cell_type": "code",
   "execution_count": 2,
   "id": "6eb2905e-cec1-4af5-9650-b1e71f8f9151",
   "metadata": {},
   "outputs": [
    {
     "name": "stdout",
     "output_type": "stream",
     "text": [
      "{\"status\":\"submitted\",\"messageId\":\"13b034b6-6361-4509-8680-6876d5c8b40d\"}\n"
     ]
    }
   ],
   "source": [
    "send_file(\"https://www.buildquickbots.com/whatsapp/media/sample/jpg/sample01.jpg\", \"pro.jpg\")"
   ]
  },
  {
   "cell_type": "code",
   "execution_count": 9,
   "id": "f5630e4e-1042-4637-b8d6-3764ffe49829",
   "metadata": {},
   "outputs": [
    {
     "name": "stdout",
     "output_type": "stream",
     "text": [
      "{\"status\":\"submitted\",\"messageId\":\"b4714e88-f7da-4ec3-b5e6-fe1ae1186e6e\"}\n"
     ]
    }
   ],
   "source": [
    "send_text('hola world bonito guapo')"
   ]
  },
  {
   "cell_type": "code",
   "execution_count": 10,
   "id": "7f544de9-1a60-45c2-a254-1bc6bd398dc8",
   "metadata": {},
   "outputs": [
    {
     "name": "stdout",
     "output_type": "stream",
     "text": [
      "{\"status\":\"submitted\",\"messageId\":\"a374a1ae-67de-4063-9c59-569a97f145ee\"}\n"
     ]
    }
   ],
   "source": [
    "send_image(\"51903458522\", )"
   ]
  },
  {
   "cell_type": "code",
   "execution_count": 22,
   "id": "d71ff10a-e963-46d3-8bc2-6f2d0c90c64c",
   "metadata": {},
   "outputs": [
    {
     "data": {
      "text/plain": [
       "'{\"type\": \"list\", \"title\": \"Title\", \"globalButtons\": [{\"type\": \"text\", \"title\": \"global button\"}]}'"
      ]
     },
     "execution_count": 22,
     "metadata": {},
     "output_type": "execute_result"
    }
   ],
   "source": [
    "kwargs = {\n",
    "    \"title\": \"Title\",\n",
    "    \"globalButtons\": [\n",
    "        {\n",
    "            \"type\": \"text\",\n",
    "            \"title\": \"global button\",\n",
    "        }\n",
    "    ],\n",
    "}\n",
    "json.dumps({\"type\": \"list\", **kwargs})"
   ]
  },
  {
   "cell_type": "code",
   "execution_count": 12,
   "id": "d4cedffb-df36-4d71-a8f8-a0e618239896",
   "metadata": {},
   "outputs": [
    {
     "name": "stdout",
     "output_type": "stream",
     "text": [
      "{\"status\":\"submitted\",\"messageId\":\"4eecbae9-9c53-4fd5-9796-b7ef96fe3844\"}\n"
     ]
    }
   ],
   "source": [
    "import requests\n",
    "\n",
    "url = \"https://api.gupshup.io/wa/api/v1/msg\"\n",
    "\n",
    "message = {\n",
    "   \"type\":\"contact\",\n",
    "   \"contact\":{\n",
    "      \"addresses\":[\n",
    "         {\n",
    "            \"city\":\"Menlo Park\",\n",
    "            \"country\":\"United States\",\n",
    "            \"countryCode\":\"us\",\n",
    "            \"state\":\"CA\",\n",
    "            \"street\":\"1 Hacker Way\",\n",
    "            \"type\":\"HOME\",\n",
    "            \"zip\":\"94025\"\n",
    "         },\n",
    "         {\n",
    "            \"city\":\"Menlo Park\",\n",
    "            \"country\":\"United States\",\n",
    "            \"countryCode\":\"us\",\n",
    "            \"state\":\"CA\",\n",
    "            \"street\":\"200 Jefferson Dr\",\n",
    "            \"type\":\"WORK\",\n",
    "            \"zip\":\"94025\"\n",
    "         }\n",
    "      ],\n",
    "      \"birthday\":\"1995-08-18\",\n",
    "      \"emails\":[\n",
    "         {\n",
    "            \"email\":\"personal.mail@gupshup.io\",\n",
    "            \"type\":\"Personal\"\n",
    "         },\n",
    "         {\n",
    "            \"email\":\"devsupport@gupshup.io\",\n",
    "            \"type\":\"Work\"\n",
    "         }\n",
    "      ],\n",
    "      \"name\":{\n",
    "         \"firstName\":\"John\",\n",
    "         \"formattedName\":\"John Wick\",\n",
    "         \"lastName\":\"Wick\"\n",
    "      },\n",
    "      \"org\":{\n",
    "         \"company\":\"Guspshup\",\n",
    "         \"department\":\"Product\",\n",
    "         \"title\":\"Manager\"\n",
    "      },\n",
    "      \"phones\":[\n",
    "         {\n",
    "            \"phone\":\"+1 (940) 555-1234\",\n",
    "            \"type\":\"HOME\"\n",
    "         },\n",
    "         {\n",
    "            \"phone\":\"+1 (650) 555-1234\",\n",
    "            \"type\":\"WORK\",\n",
    "            \"wa_id\":\"16505551234\"\n",
    "         }\n",
    "      ],\n",
    "      \"urls\":[\n",
    "         {\n",
    "            \"url\":\"https://www.gupshup.io\",\n",
    "            \"type\":\"WORK\"\n",
    "         }\n",
    "      ]\n",
    "   }\n",
    "}\n",
    "\n",
    "payload = {\n",
    "    \"message\": json.dumps(message),\n",
    "    \"channel\": \"whatsapp\",\n",
    "    \"source\": 917834811114,\n",
    "    \"destination\": 51903458522,\n",
    "    \"src.name\": \"reimaginatesting2\"\n",
    "}\n",
    "headers = {\n",
    "    \"accept\": \"application/json\",\n",
    "    \"Content-Type\": \"application/x-www-form-urlencoded\",\n",
    "    \"apikey\": \"slfqg6ecipv01dxlgsjgrhyr5icpordi\"\n",
    "}\n",
    "\n",
    "response = requests.post(url, data=payload, headers=headers)\n",
    "\n",
    "print(response.text)"
   ]
  },
  {
   "cell_type": "code",
   "execution_count": 6,
   "id": "fd627099-4d62-4e74-ad8d-4929a9e04a2a",
   "metadata": {},
   "outputs": [
    {
     "name": "stdout",
     "output_type": "stream",
     "text": [
      "https://www.washingtonpost.com/resizer/7tLgbjOZeTsaTiPuxZ1DaxKbWOA=/arc-anglerfish-washpost-prod-washpost/public/FPGDGYJXM56KI5CTHHDX3DN2WQ.jpg\n",
      "{\"type\":\"image\",\"caption\":\"A little cat\",\"originalUrl\":\"https://www.washingtonpost.com/resizer/7tLgbjOZeTsaTiPuxZ1DaxKbWOA=/arc-anglerfish-washpost-prod-washpost/public/FPGDGYJXM56KI5CTHHDX3DN2WQ.jpg\",\"previewUrl\":\"\"}\n",
      "Imagen enviada con éxito.\n"
     ]
    }
   ],
   "source": [
    "send_image(\"51903458522\", \"https://www.washingtonpost.com/resizer/7tLgbjOZeTsaTiPuxZ1DaxKbWOA=/arc-anglerfish-washpost-prod-washpost/public/FPGDGYJXM56KI5CTHHDX3DN2WQ.jpg\", caption=\"A little cat\")"
   ]
  },
  {
   "cell_type": "code",
   "execution_count": 7,
   "id": "238e423b-3a39-4b15-922a-0e44dcac3772",
   "metadata": {},
   "outputs": [
    {
     "name": "stdout",
     "output_type": "stream",
     "text": [
      "{\"status\":\"submitted\",\"messageId\":\"6ef4303f-3ac1-4028-907f-f2385ae99807\"}\n"
     ]
    }
   ],
   "source": [
    "send_buttons(\"51903458522\", \"Title\", \"text\", options=[(\"button1\", \"button_btn\")])"
   ]
  },
  {
   "cell_type": "code",
   "execution_count": 9,
   "id": "ac1cfa94-af1c-4b4a-b23a-80e3cc59c365",
   "metadata": {},
   "outputs": [
    {
     "data": {
      "text/plain": [
       "<Response [415]>"
      ]
     },
     "execution_count": 9,
     "metadata": {},
     "output_type": "execute_result"
    }
   ],
   "source": [
    "url = \"https://api.gupshup.io/wa/api/v1/msg\"\n",
    "\n",
    "headers = {\n",
    "    \"accept\": \"application/json\",\n",
    "    \"Content-Type\": \"application/x-www-form-urlencoded\"\n",
    "}\n",
    "\n",
    "data = {\n",
    "    \"type\": \"text\",\n",
    "    \"text\": \"Hello user\",\n",
    "}\n",
    "\n",
    "requests.post(url, json=data)"
   ]
  }
 ],
 "metadata": {
  "kernelspec": {
   "display_name": "Python 3 (ipykernel)",
   "language": "python",
   "name": "python3"
  },
  "language_info": {
   "codemirror_mode": {
    "name": "ipython",
    "version": 3
   },
   "file_extension": ".py",
   "mimetype": "text/x-python",
   "name": "python",
   "nbconvert_exporter": "python",
   "pygments_lexer": "ipython3",
   "version": "3.10.11"
  }
 },
 "nbformat": 4,
 "nbformat_minor": 5
}
